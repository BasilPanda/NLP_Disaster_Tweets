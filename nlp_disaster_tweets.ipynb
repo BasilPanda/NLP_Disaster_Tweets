{
 "cells": [
  {
   "cell_type": "markdown",
   "id": "fc44c06b",
   "metadata": {},
   "source": [
    "# Natural Language Processing with Disaster Tweets\n"
   ]
  },
  {
   "cell_type": "markdown",
   "id": "5c3a521a",
   "metadata": {},
   "source": [
    "## The Problem and Data\n",
    "\n",
    "The problem that this notebook is trying to solve is figuring out if a real-time tweet is talking about a disaster or not. Using Natural Language Processing (NLP) to classify these tweets and learn what really is disaster tweet and what isn't."
   ]
  },
  {
   "cell_type": "code",
   "execution_count": null,
   "id": "e030026d",
   "metadata": {},
   "outputs": [
    {
     "name": "stderr",
     "output_type": "stream",
     "text": [
      "2025-04-15 22:13:57.709392: I tensorflow/core/util/port.cc:153] oneDNN custom operations are on. You may see slightly different numerical results due to floating-point round-off errors from different computation orders. To turn them off, set the environment variable `TF_ENABLE_ONEDNN_OPTS=0`.\n",
      "2025-04-15 22:13:57.781162: E external/local_xla/xla/stream_executor/cuda/cuda_fft.cc:467] Unable to register cuFFT factory: Attempting to register factory for plugin cuFFT when one has already been registered\n",
      "WARNING: All log messages before absl::InitializeLog() is called are written to STDERR\n",
      "E0000 00:00:1744769637.833465  544225 cuda_dnn.cc:8579] Unable to register cuDNN factory: Attempting to register factory for plugin cuDNN when one has already been registered\n",
      "E0000 00:00:1744769637.841524  544225 cuda_blas.cc:1407] Unable to register cuBLAS factory: Attempting to register factory for plugin cuBLAS when one has already been registered\n",
      "W0000 00:00:1744769637.899947  544225 computation_placer.cc:177] computation placer already registered. Please check linkage and avoid linking the same target more than once.\n",
      "W0000 00:00:1744769637.899982  544225 computation_placer.cc:177] computation placer already registered. Please check linkage and avoid linking the same target more than once.\n",
      "W0000 00:00:1744769637.899983  544225 computation_placer.cc:177] computation placer already registered. Please check linkage and avoid linking the same target more than once.\n",
      "W0000 00:00:1744769637.899984  544225 computation_placer.cc:177] computation placer already registered. Please check linkage and avoid linking the same target more than once.\n",
      "2025-04-15 22:13:57.914458: I tensorflow/core/platform/cpu_feature_guard.cc:210] This TensorFlow binary is optimized to use available CPU instructions in performance-critical operations.\n",
      "To enable the following instructions: AVX2 AVX_VNNI FMA, in other operations, rebuild TensorFlow with the appropriate compiler flags.\n",
      "/home/basilp/.local/lib/python3.10/site-packages/tqdm/auto.py:21: TqdmWarning: IProgress not found. Please update jupyter and ipywidgets. See https://ipywidgets.readthedocs.io/en/stable/user_install.html\n",
      "  from .autonotebook import tqdm as notebook_tqdm\n",
      "[nltk_data] Downloading package stopwords to /home/basilp/nltk_data...\n",
      "[nltk_data]   Package stopwords is already up-to-date!\n"
     ]
    }
   ],
   "source": [
    "import matplotlib.pyplot as plt\n",
    "import numpy as np\n",
    "import pandas as pd\n",
    "import os\n",
    "import re\n",
    "os.environ[\"CUDA_VISIBLE_DEVICES\"] = \"0\"\n",
    "import tensorflow as tf\n",
    "import keras as K\n",
    "import keras_nlp\n",
    "\n",
    "from collections import Counter\n",
    "from sklearn.metrics import ConfusionMatrixDisplay, confusion_matrix\n",
    "from sklearn.model_selection import train_test_split\n",
    "\n",
    "import nltk\n",
    "nltk.download('stopwords')\n",
    "\n",
    "from nltk.corpus import  stopwords"
   ]
  },
  {
   "cell_type": "markdown",
   "id": "06923338",
   "metadata": {},
   "source": [
    "I was fortunate enough to use my GPU to help accelerate training via tensorflow"
   ]
  },
  {
   "cell_type": "code",
   "execution_count": 4,
   "id": "6a8c1f92",
   "metadata": {},
   "outputs": [
    {
     "name": "stdout",
     "output_type": "stream",
     "text": [
      "[PhysicalDevice(name='/physical_device:GPU:0', device_type='GPU')]\n"
     ]
    }
   ],
   "source": [
    "# Using GPU to do training.\n",
    "print(tf.config.list_physical_devices(\"GPU\"))"
   ]
  },
  {
   "cell_type": "markdown",
   "id": "39ce4553",
   "metadata": {},
   "source": [
    "# EDA\n",
    "Loading the data"
   ]
  },
  {
   "cell_type": "code",
   "execution_count": 3,
   "id": "124e8421",
   "metadata": {},
   "outputs": [],
   "source": [
    "train_data_df = pd.read_csv(\"train.csv\")\n",
    "test_data_df = pd.read_csv(\"test.csv\")\n",
    "sample_data_df = pd.read_csv(\"sample_submission.csv\")"
   ]
  },
  {
   "cell_type": "markdown",
   "id": "1abd7dde",
   "metadata": {},
   "source": [
    "Data dimensions and size"
   ]
  },
  {
   "cell_type": "code",
   "execution_count": 4,
   "id": "657f42bd",
   "metadata": {},
   "outputs": [
    {
     "name": "stdout",
     "output_type": "stream",
     "text": [
      "<class 'pandas.core.frame.DataFrame'>\n",
      "RangeIndex: 7613 entries, 0 to 7612\n",
      "Data columns (total 5 columns):\n",
      " #   Column    Non-Null Count  Dtype \n",
      "---  ------    --------------  ----- \n",
      " 0   id        7613 non-null   int64 \n",
      " 1   keyword   7552 non-null   object\n",
      " 2   location  5080 non-null   object\n",
      " 3   text      7613 non-null   object\n",
      " 4   target    7613 non-null   int64 \n",
      "dtypes: int64(2), object(3)\n",
      "memory usage: 297.5+ KB\n"
     ]
    }
   ],
   "source": [
    "train_data_df.info()"
   ]
  },
  {
   "cell_type": "code",
   "execution_count": 5,
   "id": "98b01d6e",
   "metadata": {},
   "outputs": [
    {
     "name": "stdout",
     "output_type": "stream",
     "text": [
      "<class 'pandas.core.frame.DataFrame'>\n",
      "RangeIndex: 3263 entries, 0 to 3262\n",
      "Data columns (total 4 columns):\n",
      " #   Column    Non-Null Count  Dtype \n",
      "---  ------    --------------  ----- \n",
      " 0   id        3263 non-null   int64 \n",
      " 1   keyword   3237 non-null   object\n",
      " 2   location  2158 non-null   object\n",
      " 3   text      3263 non-null   object\n",
      "dtypes: int64(1), object(3)\n",
      "memory usage: 102.1+ KB\n"
     ]
    }
   ],
   "source": [
    "test_data_df.info()"
   ]
  },
  {
   "cell_type": "code",
   "execution_count": 6,
   "id": "844a7257",
   "metadata": {},
   "outputs": [
    {
     "name": "stdout",
     "output_type": "stream",
     "text": [
      "<class 'pandas.core.frame.DataFrame'>\n",
      "RangeIndex: 3263 entries, 0 to 3262\n",
      "Data columns (total 2 columns):\n",
      " #   Column  Non-Null Count  Dtype\n",
      "---  ------  --------------  -----\n",
      " 0   id      3263 non-null   int64\n",
      " 1   target  3263 non-null   int64\n",
      "dtypes: int64(2)\n",
      "memory usage: 51.1 KB\n"
     ]
    }
   ],
   "source": [
    "sample_data_df.info()"
   ]
  },
  {
   "cell_type": "markdown",
   "id": "84333695",
   "metadata": {},
   "source": [
    "## Empty Data!\n",
    "We're not removing rows with empty data as keyword and location aren't really the main focus - simply if a set amount of text is a disaster or not."
   ]
  },
  {
   "cell_type": "code",
   "execution_count": 17,
   "id": "91498547",
   "metadata": {},
   "outputs": [
    {
     "name": "stdout",
     "output_type": "stream",
     "text": [
      "id             0\n",
      "keyword       61\n",
      "location    2533\n",
      "text           0\n",
      "target         0\n",
      "dtype: int64\n",
      "id             0\n",
      "keyword       26\n",
      "location    1105\n",
      "text           0\n",
      "dtype: int64\n",
      "id        0\n",
      "target    0\n",
      "dtype: int64\n"
     ]
    }
   ],
   "source": [
    "print(train_data_df.isna().sum())\n",
    "print(test_data_df.isna().sum())\n",
    "print(sample_data_df.isna().sum())"
   ]
  },
  {
   "cell_type": "code",
   "execution_count": 18,
   "id": "e9133b72",
   "metadata": {},
   "outputs": [
    {
     "data": {
      "text/html": [
       "<div>\n",
       "<style scoped>\n",
       "    .dataframe tbody tr th:only-of-type {\n",
       "        vertical-align: middle;\n",
       "    }\n",
       "\n",
       "    .dataframe tbody tr th {\n",
       "        vertical-align: top;\n",
       "    }\n",
       "\n",
       "    .dataframe thead th {\n",
       "        text-align: right;\n",
       "    }\n",
       "</style>\n",
       "<table border=\"1\" class=\"dataframe\">\n",
       "  <thead>\n",
       "    <tr style=\"text-align: right;\">\n",
       "      <th></th>\n",
       "      <th>id</th>\n",
       "      <th>keyword</th>\n",
       "      <th>location</th>\n",
       "      <th>text</th>\n",
       "      <th>target</th>\n",
       "    </tr>\n",
       "  </thead>\n",
       "  <tbody>\n",
       "    <tr>\n",
       "      <th>0</th>\n",
       "      <td>1</td>\n",
       "      <td>NaN</td>\n",
       "      <td>NaN</td>\n",
       "      <td>Our Deeds are the Reason of this #earthquake M...</td>\n",
       "      <td>1</td>\n",
       "    </tr>\n",
       "    <tr>\n",
       "      <th>1</th>\n",
       "      <td>4</td>\n",
       "      <td>NaN</td>\n",
       "      <td>NaN</td>\n",
       "      <td>Forest fire near La Ronge Sask. Canada</td>\n",
       "      <td>1</td>\n",
       "    </tr>\n",
       "    <tr>\n",
       "      <th>2</th>\n",
       "      <td>5</td>\n",
       "      <td>NaN</td>\n",
       "      <td>NaN</td>\n",
       "      <td>All residents asked to 'shelter in place' are ...</td>\n",
       "      <td>1</td>\n",
       "    </tr>\n",
       "    <tr>\n",
       "      <th>3</th>\n",
       "      <td>6</td>\n",
       "      <td>NaN</td>\n",
       "      <td>NaN</td>\n",
       "      <td>13,000 people receive #wildfires evacuation or...</td>\n",
       "      <td>1</td>\n",
       "    </tr>\n",
       "    <tr>\n",
       "      <th>4</th>\n",
       "      <td>7</td>\n",
       "      <td>NaN</td>\n",
       "      <td>NaN</td>\n",
       "      <td>Just got sent this photo from Ruby #Alaska as ...</td>\n",
       "      <td>1</td>\n",
       "    </tr>\n",
       "  </tbody>\n",
       "</table>\n",
       "</div>"
      ],
      "text/plain": [
       "   id keyword location                                               text  \\\n",
       "0   1     NaN      NaN  Our Deeds are the Reason of this #earthquake M...   \n",
       "1   4     NaN      NaN             Forest fire near La Ronge Sask. Canada   \n",
       "2   5     NaN      NaN  All residents asked to 'shelter in place' are ...   \n",
       "3   6     NaN      NaN  13,000 people receive #wildfires evacuation or...   \n",
       "4   7     NaN      NaN  Just got sent this photo from Ruby #Alaska as ...   \n",
       "\n",
       "   target  \n",
       "0       1  \n",
       "1       1  \n",
       "2       1  \n",
       "3       1  \n",
       "4       1  "
      ]
     },
     "execution_count": 18,
     "metadata": {},
     "output_type": "execute_result"
    }
   ],
   "source": [
    "train_data_df.head()"
   ]
  },
  {
   "cell_type": "code",
   "execution_count": 19,
   "id": "65b25ef0",
   "metadata": {},
   "outputs": [
    {
     "data": {
      "text/html": [
       "<div>\n",
       "<style scoped>\n",
       "    .dataframe tbody tr th:only-of-type {\n",
       "        vertical-align: middle;\n",
       "    }\n",
       "\n",
       "    .dataframe tbody tr th {\n",
       "        vertical-align: top;\n",
       "    }\n",
       "\n",
       "    .dataframe thead th {\n",
       "        text-align: right;\n",
       "    }\n",
       "</style>\n",
       "<table border=\"1\" class=\"dataframe\">\n",
       "  <thead>\n",
       "    <tr style=\"text-align: right;\">\n",
       "      <th></th>\n",
       "      <th>id</th>\n",
       "      <th>target</th>\n",
       "    </tr>\n",
       "  </thead>\n",
       "  <tbody>\n",
       "    <tr>\n",
       "      <th>count</th>\n",
       "      <td>7613.000000</td>\n",
       "      <td>7613.00000</td>\n",
       "    </tr>\n",
       "    <tr>\n",
       "      <th>mean</th>\n",
       "      <td>5441.934848</td>\n",
       "      <td>0.42966</td>\n",
       "    </tr>\n",
       "    <tr>\n",
       "      <th>std</th>\n",
       "      <td>3137.116090</td>\n",
       "      <td>0.49506</td>\n",
       "    </tr>\n",
       "    <tr>\n",
       "      <th>min</th>\n",
       "      <td>1.000000</td>\n",
       "      <td>0.00000</td>\n",
       "    </tr>\n",
       "    <tr>\n",
       "      <th>25%</th>\n",
       "      <td>2734.000000</td>\n",
       "      <td>0.00000</td>\n",
       "    </tr>\n",
       "    <tr>\n",
       "      <th>50%</th>\n",
       "      <td>5408.000000</td>\n",
       "      <td>0.00000</td>\n",
       "    </tr>\n",
       "    <tr>\n",
       "      <th>75%</th>\n",
       "      <td>8146.000000</td>\n",
       "      <td>1.00000</td>\n",
       "    </tr>\n",
       "    <tr>\n",
       "      <th>max</th>\n",
       "      <td>10873.000000</td>\n",
       "      <td>1.00000</td>\n",
       "    </tr>\n",
       "  </tbody>\n",
       "</table>\n",
       "</div>"
      ],
      "text/plain": [
       "                 id      target\n",
       "count   7613.000000  7613.00000\n",
       "mean    5441.934848     0.42966\n",
       "std     3137.116090     0.49506\n",
       "min        1.000000     0.00000\n",
       "25%     2734.000000     0.00000\n",
       "50%     5408.000000     0.00000\n",
       "75%     8146.000000     1.00000\n",
       "max    10873.000000     1.00000"
      ]
     },
     "execution_count": 19,
     "metadata": {},
     "output_type": "execute_result"
    }
   ],
   "source": [
    "train_data_df.describe()"
   ]
  },
  {
   "cell_type": "markdown",
   "id": "ddd74bb3",
   "metadata": {},
   "source": [
    "What does the text look like?"
   ]
  },
  {
   "cell_type": "code",
   "execution_count": 102,
   "id": "c057c86b",
   "metadata": {},
   "outputs": [
    {
     "name": "stdout",
     "output_type": "stream",
     "text": [
      "Our Deeds are the Reason of this #earthquake May ALLAH Forgive us all\n",
      "Forest fire near La Ronge Sask. Canada\n",
      "All residents asked to 'shelter in place' are being notified by officers. No other evacuation or shelter in place orders are expected\n",
      "13,000 people receive #wildfires evacuation orders in California \n",
      "Just got sent this photo from Ruby #Alaska as smoke from #wildfires pours into a school \n",
      "#RockyFire Update => California Hwy. 20 closed in both directions due to Lake County fire - #CAfire #wildfires\n",
      "#flood #disaster Heavy rain causes flash flooding of streets in Manitou, Colorado Springs areas\n",
      "I'm on top of the hill and I can see a fire in the woods...\n",
      "There's an emergency evacuation happening now in the building across the street\n",
      "I'm afraid that the tornado is coming to our area...\n",
      "Three people died from the heat wave so far\n",
      "Haha South Tampa is getting flooded hah- WAIT A SECOND I LIVE IN SOUTH TAMPA WHAT AM I GONNA DO WHAT AM I GONNA DO FVCK #flooding\n",
      "#raining #flooding #Florida #TampaBay #Tampa 18 or 19 days. I've lost count \n",
      "#Flood in Bago Myanmar #We arrived Bago\n",
      "Damage to school bus on 80 in multi car crash #BREAKING \n",
      "What's up man?\n",
      "I love fruits\n",
      "Summer is lovely\n",
      "My car is so fast\n",
      "What a goooooooaaaaaal!!!!!!\n"
     ]
    }
   ],
   "source": [
    "for x in range(20):\n",
    "    print(train_data_df[\"text\"][x])"
   ]
  },
  {
   "cell_type": "markdown",
   "id": "73529974",
   "metadata": {},
   "source": [
    "### Text Preprocessing\n",
    "\n",
    "We're going to do some clean up like removing hashtags, lowercasing everything, numbers, and all stop-words."
   ]
  },
  {
   "cell_type": "code",
   "execution_count": 5,
   "id": "28f419c4",
   "metadata": {},
   "outputs": [],
   "source": [
    "def preprocess_text(text):\n",
    "    # Remove http links\n",
    "    text = re.sub(r'https?://\\S+', '', text)\n",
    "    # Remove hashtags\n",
    "    text = text.replace(\"#\", \"\")\n",
    "    # Remove numbers\n",
    "    text = re.sub(r\"\\d+\", \"\", text)\n",
    "    # Lowercase everything\n",
    "    text = text.lower()\n",
    "    # Remove stop-words\n",
    "    stop_words = set(stopwords.words('english'))\n",
    "    text = \" \".join([word for word in text.split() if word not in stop_words])\n",
    "    # Remove special characters and digits\n",
    "    text = re.sub(r'[^\\w\\s]', '', text)\n",
    "    text = re.sub(r'[^a-zA-Z\\s]', '', text)\n",
    "    return text"
   ]
  },
  {
   "cell_type": "code",
   "execution_count": 6,
   "id": "2608c5b6",
   "metadata": {},
   "outputs": [],
   "source": [
    "train_data_df[\"text\"] = train_data_df[\"text\"].apply(preprocess_text)"
   ]
  },
  {
   "cell_type": "code",
   "execution_count": 105,
   "id": "4d3aa014",
   "metadata": {},
   "outputs": [
    {
     "name": "stdout",
     "output_type": "stream",
     "text": [
      "deeds reason earthquake may allah forgive us\n",
      "forest fire near la ronge sask canada\n",
      "residents asked shelter place notified officers evacuation shelter place orders expected\n",
      " people receive wildfires evacuation orders california\n",
      "got sent photo ruby alaska smoke wildfires pours school\n",
      "rockyfire update  california hwy closed directions due lake county fire  cafire wildfires\n",
      "flood disaster heavy rain causes flash flooding streets manitou colorado springs areas\n",
      "top hill see fire woods\n",
      "theres emergency evacuation happening building across street\n",
      "afraid tornado coming area\n",
      "three people died heat wave far\n",
      "haha south tampa getting flooded hah wait second live south tampa gonna gonna fvck flooding\n",
      "raining flooding florida tampabay tampa days lost count\n",
      "flood bago myanmar arrived bago\n",
      "damage school bus multi car crash breaking\n",
      "whats man\n",
      "love fruits\n",
      "summer lovely\n",
      "car fast\n",
      "goooooooaaaaaal\n"
     ]
    }
   ],
   "source": [
    "for x in range(20):\n",
    "    print(train_data_df[\"text\"][x])"
   ]
  },
  {
   "cell_type": "markdown",
   "id": "2166deca",
   "metadata": {},
   "source": [
    "### Visualizations"
   ]
  },
  {
   "cell_type": "code",
   "execution_count": 94,
   "id": "2fe039b8",
   "metadata": {},
   "outputs": [],
   "source": [
    "target_counts = train_data_df[\"target\"].value_counts()\n"
   ]
  },
  {
   "cell_type": "code",
   "execution_count": 106,
   "id": "677896c4",
   "metadata": {},
   "outputs": [
    {
     "data": {
      "image/png": "[encoded data removed]",
      "text/plain": [
       "<Figure size 640x480 with 1 Axes>"
      ]
     },
     "metadata": {},
     "output_type": "display_data"
    },
    {
     "data": {
      "text/plain": [
       "<Figure size 500x500 with 0 Axes>"
      ]
     },
     "metadata": {},
     "output_type": "display_data"
    }
   ],
   "source": [
    "plt.bar(x=[\"Non-disaster\", \"Disaster\"], height=target_counts)\n",
    "plt.figure(figsize=(5,5))\n",
    "plt.show()"
   ]
  },
  {
   "cell_type": "code",
   "execution_count": 107,
   "id": "2b611744",
   "metadata": {},
   "outputs": [
    {
     "data": {
      "image/png": "[encoded data removed]",
      "text/plain": [
       "<Figure size 2000x500 with 1 Axes>"
      ]
     },
     "metadata": {},
     "output_type": "display_data"
    }
   ],
   "source": [
    "# Top ten locations\n",
    "location_counts = train_data_df[\"location\"].value_counts()[:10]\n",
    "plt.figure(figsize=(20,5))\n",
    "plt.bar(x=location_counts.index, height=location_counts)\n",
    "plt.show()"
   ]
  },
  {
   "cell_type": "code",
   "execution_count": 109,
   "id": "38d829ba",
   "metadata": {},
   "outputs": [
    {
     "data": {
      "image/png": "[encoded data removed]",
      "text/plain": [
       "<Figure size 1000x600 with 1 Axes>"
      ]
     },
     "metadata": {},
     "output_type": "display_data"
    }
   ],
   "source": [
    "# Top 10 words\n",
    "all_text = \" \".join(train_data_df[\"text\"])\n",
    "word_counts = Counter(all_text.split())\n",
    "top_words = word_counts.most_common(10)\n",
    "words, counts = zip(*top_words)\n",
    "\n",
    "plt.figure(figsize=(10, 6))\n",
    "plt.bar(words, counts, color='skyblue')\n",
    "plt.xlabel('Words')\n",
    "plt.ylabel('Frequency')\n",
    "plt.title('Top 10 Words Used')\n",
    "plt.xticks(rotation=45)\n",
    "plt.show()"
   ]
  },
  {
   "cell_type": "markdown",
   "id": "8d812775",
   "metadata": {},
   "source": [
    "# Deep Learning Model\n",
    "\n",
    "We'll be using `KerasNLP` and a pre-trained `DistilBERT` model from that framework. `BERT` is `Bidirectional Encoder Representations from Transformers.` They are able to \"compute vector-space representations of natural languages to be used in deep learning models. `DistilBERT` is simply a smaller version, 40% smaller, than BERT while maintain 40% knowledge and retaining 97% accuracy and being 60% faster.\" This model is suitable for this problem to classify disaster and non-disaster tweets due to the natural language processing."
   ]
  },
  {
   "cell_type": "code",
   "execution_count": 37,
   "id": "aa79b81b",
   "metadata": {},
   "outputs": [],
   "source": [
    "epochs = 10\n",
    "batch_size = 16\n",
    "training_examples = train_data_df.shape[0]\n",
    "train_amount = 0.7\n",
    "val_amount = 0.3\n",
    "steps = int(training_examples) * train_amount // batch_size\n",
    "\n",
    "auto_tune = tf.data.experimental.AUTOTUNE\n",
    "\n",
    "X = train_data_df[\"text\"]\n",
    "y = train_data_df[\"target\"]\n",
    "\n",
    "X_train, X_val, y_train, y_val = train_test_split(X, y, test_size=val_amount, random_state=123)\n",
    "\n",
    "X_test = test_data_df[\"text\"]"
   ]
  },
  {
   "cell_type": "code",
   "execution_count": 38,
   "id": "82b62ca0",
   "metadata": {},
   "outputs": [],
   "source": [
    "preset = \"distil_bert_base_en_uncased\"\n",
    "\n",
    "preprocessor = keras_nlp.models.DistilBertPreprocessor.from_preset(\n",
    "    preset,\n",
    "    sequence_length=160,\n",
    "    name=\"preprocessor_4_tweets\")\n",
    "\n",
    "classifier = keras_nlp.models.DistilBertClassifier.from_preset(\n",
    "    preset,                                                               preprocessor=preprocessor,\n",
    "    num_classes=2)"
   ]
  },
  {
   "cell_type": "code",
   "execution_count": 22,
   "id": "0eca95d3",
   "metadata": {},
   "outputs": [
    {
     "name": "stdout",
     "output_type": "stream",
     "text": [
      "Epoch 1/10\n"
     ]
    },
    {
     "name": "stderr",
     "output_type": "stream",
     "text": [
      "2025-04-15 23:02:01.112419: I external/local_xla/xla/stream_executor/cuda/subprocess_compilation.cc:346] ptxas warning : Registers are spilled to local memory in function 'input_multiply_reduce_fusion', 80 bytes spill stores, 60 bytes spill loads\n",
      "\n"
     ]
    },
    {
     "name": "stdout",
     "output_type": "stream",
     "text": [
      "\u001b[1m 29/215\u001b[0m \u001b[32m━━\u001b[0m\u001b[37m━━━━━━━━━━━━━━━━━━\u001b[0m \u001b[1m20s\u001b[0m 109ms/step - accuracy: 0.5193 - loss: 0.6911"
     ]
    },
    {
     "name": "stdout",
     "output_type": "stream",
     "text": [
      "\u001b[1m215/215\u001b[0m \u001b[32m━━━━━━━━━━━━━━━━━━━━\u001b[0m\u001b[37m\u001b[0m \u001b[1m53s\u001b[0m 167ms/step - accuracy: 0.5819 - loss: 0.6809 - val_accuracy: 0.7454 - val_loss: 0.6184\n",
      "Epoch 2/10\n",
      "\u001b[1m215/215\u001b[0m \u001b[32m━━━━━━━━━━━━━━━━━━━━\u001b[0m\u001b[37m\u001b[0m \u001b[1m26s\u001b[0m 122ms/step - accuracy: 0.7799 - loss: 0.5773 - val_accuracy: 0.7874 - val_loss: 0.4986\n",
      "Epoch 3/10\n",
      "\u001b[1m215/215\u001b[0m \u001b[32m━━━━━━━━━━━━━━━━━━━━\u001b[0m\u001b[37m\u001b[0m \u001b[1m27s\u001b[0m 123ms/step - accuracy: 0.8039 - loss: 0.4738 - val_accuracy: 0.7900 - val_loss: 0.4738\n",
      "Epoch 4/10\n",
      "\u001b[1m215/215\u001b[0m \u001b[32m━━━━━━━━━━━━━━━━━━━━\u001b[0m\u001b[37m\u001b[0m \u001b[1m34s\u001b[0m 158ms/step - accuracy: 0.8153 - loss: 0.4391 - val_accuracy: 0.7953 - val_loss: 0.4651\n",
      "Epoch 5/10\n",
      "\u001b[1m215/215\u001b[0m \u001b[32m━━━━━━━━━━━━━━━━━━━━\u001b[0m\u001b[37m\u001b[0m \u001b[1m39s\u001b[0m 180ms/step - accuracy: 0.8193 - loss: 0.4229 - val_accuracy: 0.7992 - val_loss: 0.4605\n",
      "Epoch 6/10\n",
      "\u001b[1m215/215\u001b[0m \u001b[32m━━━━━━━━━━━━━━━━━━━━\u001b[0m\u001b[37m\u001b[0m \u001b[1m30s\u001b[0m 137ms/step - accuracy: 0.8314 - loss: 0.4066 - val_accuracy: 0.8018 - val_loss: 0.4559\n",
      "Epoch 7/10\n",
      "\u001b[1m215/215\u001b[0m \u001b[32m━━━━━━━━━━━━━━━━━━━━\u001b[0m\u001b[37m\u001b[0m \u001b[1m34s\u001b[0m 157ms/step - accuracy: 0.8385 - loss: 0.3947 - val_accuracy: 0.7992 - val_loss: 0.4528\n",
      "Epoch 8/10\n",
      "\u001b[1m215/215\u001b[0m \u001b[32m━━━━━━━━━━━━━━━━━━━━\u001b[0m\u001b[37m\u001b[0m \u001b[1m26s\u001b[0m 123ms/step - accuracy: 0.8404 - loss: 0.3865 - val_accuracy: 0.7979 - val_loss: 0.4482\n",
      "Epoch 9/10\n",
      "\u001b[1m215/215\u001b[0m \u001b[32m━━━━━━━━━━━━━━━━━━━━\u001b[0m\u001b[37m\u001b[0m \u001b[1m28s\u001b[0m 130ms/step - accuracy: 0.8467 - loss: 0.3791 - val_accuracy: 0.8045 - val_loss: 0.4476\n",
      "Epoch 10/10\n",
      "\u001b[1m215/215\u001b[0m \u001b[32m━━━━━━━━━━━━━━━━━━━━\u001b[0m\u001b[37m\u001b[0m \u001b[1m32s\u001b[0m 121ms/step - accuracy: 0.8472 - loss: 0.3731 - val_accuracy: 0.8058 - val_loss: 0.4474\n"
     ]
    }
   ],
   "source": [
    "second_classifier = keras_nlp.models.DistilBertClassifier.from_preset(\n",
    "    preset,                                                               preprocessor=preprocessor,\n",
    "    num_classes=2)\n",
    "\n",
    "\n",
    "second_classifier.compile(\n",
    "    loss=K.losses.SparseCategoricalCrossentropy(from_logits=True),\n",
    "    optimizer=K.optimizers.Adam(1e-6),\n",
    "    metrics= [\"accuracy\"]\n",
    ")\n",
    "second_model = second_classifier.fit(x=X_train,\n",
    "                         y=y_train,\n",
    "                         batch_size=batch_size,\n",
    "                         epochs=epochs,\n",
    "                         validation_data=(X_val, y_val)\n",
    "                         )"
   ]
  },
  {
   "cell_type": "code",
   "execution_count": 23,
   "id": "c8075f55",
   "metadata": {},
   "outputs": [
    {
     "name": "stdout",
     "output_type": "stream",
     "text": [
      "\u001b[1m215/215\u001b[0m \u001b[32m━━━━━━━━━━━━━━━━━━━━\u001b[0m\u001b[37m\u001b[0m \u001b[1m8s\u001b[0m 30ms/step\n"
     ]
    },
    {
     "data": {
      "text/plain": [
       "Text(0.5, 1.0, 'Confusion Matrix on Training Dataset - F1 Score: 0.83')"
      ]
     },
     "execution_count": 23,
     "metadata": {},
     "output_type": "execute_result"
    },
    {
     "data": {
      "image/png": "[encoded data removed]",
      "text/plain": [
       "<Figure size 640x480 with 2 Axes>"
      ]
     },
     "metadata": {},
     "output_type": "display_data"
    }
   ],
   "source": [
    "y_pred_train = second_classifier.predict(X_train)\n",
    "\n",
    "display_train = ConfusionMatrixDisplay.from_predictions(\n",
    "    y_train,\n",
    "    np.argmax(y_pred_train, axis=1),\n",
    "    display_labels=[\"Not Disaster\",\"Disaster\"],\n",
    "    cmap=plt.cm.Blues\n",
    ")\n",
    "\n",
    "tn, fp, fn, tp = confusion_matrix(y_train, np.argmax(y_pred_train, axis=1)).ravel()\n",
    "f1_score = tp / (tp+((fn+fp)/2))\n",
    "\n",
    "display_train.ax_.set_title(f\"Confusion Matrix on Training Dataset - F1 Score: {f1_score.round(2)}\")"
   ]
  },
  {
   "cell_type": "markdown",
   "id": "5326cd52",
   "metadata": {},
   "source": [
    "Initial score of 0.83 against our training data."
   ]
  },
  {
   "cell_type": "code",
   "execution_count": 24,
   "id": "b579bb14",
   "metadata": {},
   "outputs": [
    {
     "name": "stdout",
     "output_type": "stream",
     "text": [
      "\u001b[1m24/24\u001b[0m \u001b[32m━━━━━━━━━━━━━━━━━━━━\u001b[0m\u001b[37m\u001b[0m \u001b[1m5s\u001b[0m 227ms/step\n"
     ]
    },
    {
     "data": {
      "text/plain": [
       "Text(0.5, 1.0, 'Confusion Matrix on Training Dataset - F1 Score: 0.75')"
      ]
     },
     "execution_count": 24,
     "metadata": {},
     "output_type": "execute_result"
    },
    {
     "data": {
      "image/png": "[encoded data removed]",
      "text/plain": [
       "<Figure size 640x480 with 2 Axes>"
      ]
     },
     "metadata": {},
     "output_type": "display_data"
    }
   ],
   "source": [
    "y_pred_val = second_classifier.predict(X_val)\n",
    "\n",
    "display_valid = ConfusionMatrixDisplay.from_predictions(\n",
    "    y_val,\n",
    "    np.argmax(y_pred_val, axis=1),\n",
    "    display_labels=[\"Not Disaster\",\"Disaster\"],\n",
    "    cmap=plt.cm.Blues\n",
    ")\n",
    "\n",
    "tn, fp, fn, tp = confusion_matrix(y_val, np.argmax(y_pred_val, axis=1)).ravel()\n",
    "f1_score = tp / (tp+((fn+fp)/2))\n",
    "\n",
    "display_valid.ax_.set_title(f\"Confusion Matrix on Training Dataset - F1 Score: {f1_score.round(2)}\")"
   ]
  },
  {
   "cell_type": "markdown",
   "id": "3a28482b",
   "metadata": {},
   "source": [
    "Test score of 0.75, not too bad. Let's try some minor hyperparameter tuning."
   ]
  },
  {
   "cell_type": "markdown",
   "id": "a7a57df1",
   "metadata": {},
   "source": [
    "# Hyperparameter Tuning"
   ]
  },
  {
   "cell_type": "markdown",
   "id": "b7aa65df",
   "metadata": {},
   "source": [
    "- Changes\n",
    "    - Epoches from 10 to 2.\n",
    "    - Training size from 0.7 to 0.8\n",
    "    - The learning rate from 1e-6 to 1e-5.\n",
    "    - Batch size from 16 to 32.\n",
    "\n",
    "Initially tried doubling or halving numeric hyperparameter values until I got an increase in accuracy.\n",
    "\n",
    "I tried changing batch size higher but this lead to less accurate results.\n",
    "\n",
    "Increasing the learning rate too much made the model incredibly inaccurate."
   ]
  },
  {
   "cell_type": "code",
   "execution_count": 25,
   "id": "94d221af",
   "metadata": {},
   "outputs": [],
   "source": [
    "batch_size = 32\n",
    "training_examples = train_data_df.shape[0]\n",
    "train_amount = 0.8\n",
    "val_amount = 0.2\n",
    "steps = int(training_examples) * train_amount // batch_size\n",
    "\n",
    "epochs = 2\n",
    "auto_tune = tf.data.experimental.AUTOTUNE\n",
    "\n",
    "X = train_data_df[\"text\"]\n",
    "y = train_data_df[\"target\"]\n",
    "\n",
    "X_train, X_val, y_train, y_val = train_test_split(X, y, test_size=val_amount, random_state=123)\n",
    "\n",
    "X_test = test_data_df[\"text\"]"
   ]
  },
  {
   "cell_type": "code",
   "execution_count": 26,
   "id": "9521a782",
   "metadata": {},
   "outputs": [],
   "source": [
    "preset = \"distil_bert_base_en_uncased\"\n",
    "\n",
    "preprocessor = keras_nlp.models.DistilBertPreprocessor.from_preset(\n",
    "    preset,\n",
    "    sequence_length=160,\n",
    "    name=\"preprocessor_4_tweets\")\n",
    "\n",
    "classifier = keras_nlp.models.DistilBertClassifier.from_preset(\n",
    "    preset,                                                               preprocessor=preprocessor,\n",
    "    num_classes=2)"
   ]
  },
  {
   "cell_type": "code",
   "execution_count": 27,
   "id": "0ac19439",
   "metadata": {},
   "outputs": [
    {
     "name": "stdout",
     "output_type": "stream",
     "text": [
      "Epoch 1/2\n"
     ]
    },
    {
     "name": "stderr",
     "output_type": "stream",
     "text": [
      "2025-04-15 23:12:09.615353: I external/local_xla/xla/stream_executor/cuda/subprocess_compilation.cc:346] ptxas warning : Registers are spilled to local memory in function 'gemm_fusion_dot_126', 544 bytes spill stores, 544 bytes spill loads\n",
      "\n",
      "2025-04-15 23:12:09.732221: I external/local_xla/xla/stream_executor/cuda/subprocess_compilation.cc:346] ptxas warning : Registers are spilled to local memory in function 'gemm_fusion_dot_126', 180 bytes spill stores, 180 bytes spill loads\n",
      "\n",
      "2025-04-15 23:12:09.758219: I external/local_xla/xla/stream_executor/cuda/subprocess_compilation.cc:346] ptxas warning : Registers are spilled to local memory in function 'gemm_fusion_dot_126', 184 bytes spill stores, 184 bytes spill loads\n",
      "\n",
      "2025-04-15 23:12:09.778609: I external/local_xla/xla/stream_executor/cuda/subprocess_compilation.cc:346] ptxas warning : Registers are spilled to local memory in function 'gemm_fusion_dot_36', 876 bytes spill stores, 844 bytes spill loads\n",
      "\n",
      "2025-04-15 23:12:09.780036: I external/local_xla/xla/stream_executor/cuda/subprocess_compilation.cc:346] ptxas warning : Registers are spilled to local memory in function 'gemm_fusion_dot_126', 236 bytes spill stores, 236 bytes spill loads\n",
      "\n",
      "2025-04-15 23:12:09.811225: I external/local_xla/xla/stream_executor/cuda/subprocess_compilation.cc:346] ptxas warning : Registers are spilled to local memory in function 'gemm_fusion_dot_126', 260 bytes spill stores, 264 bytes spill loads\n",
      "\n",
      "2025-04-15 23:12:09.929691: I external/local_xla/xla/stream_executor/cuda/subprocess_compilation.cc:346] ptxas warning : Registers are spilled to local memory in function 'gemm_fusion_dot_126', 544 bytes spill stores, 544 bytes spill loads\n",
      "\n",
      "2025-04-15 23:12:10.310679: I external/local_xla/xla/stream_executor/cuda/subprocess_compilation.cc:346] ptxas warning : Registers are spilled to local memory in function 'gemm_fusion_dot_36', 60 bytes spill stores, 60 bytes spill loads\n",
      "\n",
      "2025-04-15 23:12:10.440267: I external/local_xla/xla/stream_executor/cuda/subprocess_compilation.cc:346] ptxas warning : Registers are spilled to local memory in function 'gemm_fusion_dot_36', 244 bytes spill stores, 244 bytes spill loads\n",
      "\n",
      "2025-04-15 23:12:10.495495: I external/local_xla/xla/stream_executor/cuda/subprocess_compilation.cc:346] ptxas warning : Registers are spilled to local memory in function 'gemm_fusion_dot_140', 960 bytes spill stores, 960 bytes spill loads\n",
      "\n",
      "2025-04-15 23:12:10.671810: I external/local_xla/xla/stream_executor/cuda/subprocess_compilation.cc:346] ptxas warning : Registers are spilled to local memory in function 'gemm_fusion_dot_140', 348 bytes spill stores, 348 bytes spill loads\n",
      "\n",
      "2025-04-15 23:12:10.674713: I external/local_xla/xla/stream_executor/cuda/subprocess_compilation.cc:346] ptxas warning : Registers are spilled to local memory in function 'gemm_fusion_dot_40', 4916 bytes spill stores, 4952 bytes spill loads\n",
      "\n",
      "2025-04-15 23:12:11.037517: I external/local_xla/xla/stream_executor/cuda/subprocess_compilation.cc:346] ptxas warning : Registers are spilled to local memory in function 'gemm_fusion_dot_38', 432 bytes spill stores, 1312 bytes spill loads\n",
      "\n",
      "2025-04-15 23:12:11.121446: I external/local_xla/xla/stream_executor/cuda/subprocess_compilation.cc:346] ptxas warning : Registers are spilled to local memory in function 'gemm_fusion_dot_36', 428 bytes spill stores, 1308 bytes spill loads\n",
      "\n",
      "2025-04-15 23:12:11.180968: I external/local_xla/xla/stream_executor/cuda/subprocess_compilation.cc:346] ptxas warning : Registers are spilled to local memory in function 'gemm_fusion_dot_38', 876 bytes spill stores, 844 bytes spill loads\n",
      "\n",
      "2025-04-15 23:12:11.398034: I external/local_xla/xla/stream_executor/cuda/subprocess_compilation.cc:346] ptxas warning : Registers are spilled to local memory in function 'gemm_fusion_dot_140', 492 bytes spill stores, 492 bytes spill loads\n",
      "\n",
      "2025-04-15 23:12:11.510719: I external/local_xla/xla/stream_executor/cuda/subprocess_compilation.cc:346] ptxas warning : Registers are spilled to local memory in function 'gemm_fusion_dot_141', 528 bytes spill stores, 528 bytes spill loads\n",
      "\n",
      "2025-04-15 23:12:11.572257: I external/local_xla/xla/stream_executor/cuda/subprocess_compilation.cc:346] ptxas warning : Registers are spilled to local memory in function 'gemm_fusion_dot_141', 404 bytes spill stores, 404 bytes spill loads\n",
      "\n",
      "2025-04-15 23:12:11.659619: I external/local_xla/xla/stream_executor/cuda/subprocess_compilation.cc:346] ptxas warning : Registers are spilled to local memory in function 'gemm_fusion_dot_141', 868 bytes spill stores, 868 bytes spill loads\n",
      "\n",
      "2025-04-15 23:12:11.808900: I external/local_xla/xla/stream_executor/cuda/subprocess_compilation.cc:346] ptxas warning : Registers are spilled to local memory in function 'gemm_fusion_dot_38', 244 bytes spill stores, 244 bytes spill loads\n",
      "\n",
      "2025-04-15 23:12:11.832184: I external/local_xla/xla/stream_executor/cuda/subprocess_compilation.cc:346] ptxas warning : Registers are spilled to local memory in function 'gemm_fusion_dot_18710', 468 bytes spill stores, 468 bytes spill loads\n",
      "\n",
      "2025-04-15 23:12:11.876902: I external/local_xla/xla/stream_executor/cuda/subprocess_compilation.cc:346] ptxas warning : Registers are spilled to local memory in function 'gemm_fusion_dot_40', 416 bytes spill stores, 324 bytes spill loads\n",
      "\n",
      "2025-04-15 23:12:12.039700: I external/local_xla/xla/stream_executor/cuda/subprocess_compilation.cc:346] ptxas warning : Registers are spilled to local memory in function 'gemm_fusion_dot_141', 404 bytes spill stores, 404 bytes spill loads\n",
      "\n",
      "2025-04-15 23:12:12.130548: I external/local_xla/xla/stream_executor/cuda/subprocess_compilation.cc:346] ptxas warning : Registers are spilled to local memory in function 'gemm_fusion_dot_40', 24 bytes spill stores, 24 bytes spill loads\n",
      "\n",
      "2025-04-15 23:12:12.172855: I external/local_xla/xla/stream_executor/cuda/subprocess_compilation.cc:346] ptxas warning : Registers are spilled to local memory in function 'gemm_fusion_dot_38', 60 bytes spill stores, 60 bytes spill loads\n",
      "\n",
      "2025-04-15 23:12:12.409189: I external/local_xla/xla/stream_executor/cuda/subprocess_compilation.cc:346] ptxas warning : Registers are spilled to local memory in function 'gemm_fusion_dot_40', 188 bytes spill stores, 188 bytes spill loads\n",
      "\n",
      "2025-04-15 23:12:12.469174: I external/local_xla/xla/stream_executor/cuda/subprocess_compilation.cc:346] ptxas warning : Registers are spilled to local memory in function 'gemm_fusion_dot_40', 196 bytes spill stores, 196 bytes spill loads\n",
      "\n",
      "2025-04-15 23:12:12.519207: I external/local_xla/xla/stream_executor/cuda/subprocess_compilation.cc:346] ptxas warning : Registers are spilled to local memory in function 'gemm_fusion_dot_19119', 1744 bytes spill stores, 1720 bytes spill loads\n",
      "\n",
      "2025-04-15 23:12:12.728298: I external/local_xla/xla/stream_executor/cuda/subprocess_compilation.cc:346] ptxas warning : Registers are spilled to local memory in function 'gemm_fusion_dot_140', 348 bytes spill stores, 348 bytes spill loads\n",
      "\n",
      "2025-04-15 23:12:12.838132: I external/local_xla/xla/stream_executor/cuda/subprocess_compilation.cc:346] ptxas warning : Registers are spilled to local memory in function 'gemm_fusion_dot_18710', 184 bytes spill stores, 184 bytes spill loads\n",
      "\n",
      "2025-04-15 23:12:12.867195: I external/local_xla/xla/stream_executor/cuda/subprocess_compilation.cc:346] ptxas warning : Registers are spilled to local memory in function 'gemm_fusion_dot_19119', 864 bytes spill stores, 864 bytes spill loads\n",
      "\n",
      "2025-04-15 23:12:12.881130: I external/local_xla/xla/stream_executor/cuda/subprocess_compilation.cc:346] ptxas warning : Registers are spilled to local memory in function 'gemm_fusion_dot_18710', 260 bytes spill stores, 260 bytes spill loads\n",
      "\n",
      "2025-04-15 23:12:12.881210: I external/local_xla/xla/stream_executor/cuda/subprocess_compilation.cc:346] ptxas warning : Registers are spilled to local memory in function 'gemm_fusion_dot_40', 444 bytes spill stores, 352 bytes spill loads\n",
      "\n",
      "2025-04-15 23:12:12.945095: I external/local_xla/xla/stream_executor/cuda/subprocess_compilation.cc:346] ptxas warning : Registers are spilled to local memory in function 'gemm_fusion_dot_40', 1208 bytes spill stores, 1208 bytes spill loads\n",
      "\n",
      "2025-04-15 23:12:12.989706: I external/local_xla/xla/stream_executor/cuda/subprocess_compilation.cc:346] ptxas warning : Registers are spilled to local memory in function 'gemm_fusion_dot_19119', 184 bytes spill stores, 184 bytes spill loads\n",
      "\n",
      "2025-04-15 23:12:13.373390: I external/local_xla/xla/stream_executor/cuda/subprocess_compilation.cc:346] ptxas warning : Registers are spilled to local memory in function 'gemm_fusion_dot_19119', 172 bytes spill stores, 172 bytes spill loads\n",
      "\n",
      "2025-04-15 23:12:13.373463: I external/local_xla/xla/stream_executor/cuda/subprocess_compilation.cc:346] ptxas warning : Registers are spilled to local memory in function 'gemm_fusion_dot_18710', 264 bytes spill stores, 264 bytes spill loads\n",
      "\n",
      "2025-04-15 23:12:13.375612: I external/local_xla/xla/stream_executor/cuda/subprocess_compilation.cc:346] ptxas warning : Registers are spilled to local memory in function 'gemm_fusion_dot_140', 1848 bytes spill stores, 1916 bytes spill loads\n",
      "\n",
      "2025-04-15 23:12:13.486967: I external/local_xla/xla/stream_executor/cuda/subprocess_compilation.cc:346] ptxas warning : Registers are spilled to local memory in function 'gemm_fusion_dot_19119', 632 bytes spill stores, 632 bytes spill loads\n",
      "\n",
      "2025-04-15 23:12:13.684956: I external/local_xla/xla/stream_executor/cuda/subprocess_compilation.cc:346] ptxas warning : Registers are spilled to local memory in function 'gemm_fusion_dot_18710', 76 bytes spill stores, 76 bytes spill loads\n",
      "\n",
      "2025-04-15 23:12:13.772448: I external/local_xla/xla/stream_executor/cuda/subprocess_compilation.cc:346] ptxas warning : Registers are spilled to local memory in function 'gemm_fusion_dot_18710', 864 bytes spill stores, 864 bytes spill loads\n",
      "\n",
      "2025-04-15 23:12:13.777809: I external/local_xla/xla/stream_executor/cuda/subprocess_compilation.cc:346] ptxas warning : Registers are spilled to local memory in function 'gemm_fusion_dot_40', 5360 bytes spill stores, 5360 bytes spill loads\n",
      "\n",
      "2025-04-15 23:12:13.808495: I external/local_xla/xla/stream_executor/cuda/subprocess_compilation.cc:346] ptxas warning : Registers are spilled to local memory in function 'gemm_fusion_dot_18710', 632 bytes spill stores, 632 bytes spill loads\n",
      "\n",
      "2025-04-15 23:12:13.810484: I external/local_xla/xla/stream_executor/cuda/subprocess_compilation.cc:346] ptxas warning : Registers are spilled to local memory in function 'gemm_fusion_dot_141', 3976 bytes spill stores, 3556 bytes spill loads\n",
      "\n",
      "2025-04-15 23:12:14.089006: I external/local_xla/xla/stream_executor/cuda/subprocess_compilation.cc:346] ptxas warning : Registers are spilled to local memory in function 'gemm_fusion_dot_19119', 4 bytes spill stores, 4 bytes spill loads\n",
      "\n",
      "2025-04-15 23:12:14.145122: I external/local_xla/xla/stream_executor/cuda/subprocess_compilation.cc:346] ptxas warning : Registers are spilled to local memory in function 'gemm_fusion_dot_18710', 280 bytes spill stores, 280 bytes spill loads\n",
      "\n",
      "2025-04-15 23:12:14.147074: I external/local_xla/xla/stream_executor/cuda/subprocess_compilation.cc:346] ptxas warning : Registers are spilled to local memory in function 'gemm_fusion_dot_18710', 4 bytes spill stores, 4 bytes spill loads\n",
      "\n",
      "2025-04-15 23:12:14.196097: I external/local_xla/xla/stream_executor/cuda/subprocess_compilation.cc:346] ptxas warning : Registers are spilled to local memory in function 'gemm_fusion_dot_19119', 260 bytes spill stores, 260 bytes spill loads\n",
      "\n",
      "2025-04-15 23:12:14.232703: I external/local_xla/xla/stream_executor/cuda/subprocess_compilation.cc:346] ptxas warning : Registers are spilled to local memory in function 'gemm_fusion_dot_19119', 76 bytes spill stores, 76 bytes spill loads\n",
      "\n",
      "2025-04-15 23:12:14.235497: I external/local_xla/xla/stream_executor/cuda/subprocess_compilation.cc:346] ptxas warning : Registers are spilled to local memory in function 'gemm_fusion_dot_18710', 172 bytes spill stores, 172 bytes spill loads\n",
      "\n",
      "2025-04-15 23:12:14.251549: I external/local_xla/xla/stream_executor/cuda/subprocess_compilation.cc:346] ptxas warning : Registers are spilled to local memory in function 'gemm_fusion_dot_19119', 468 bytes spill stores, 468 bytes spill loads\n",
      "\n",
      "2025-04-15 23:12:14.257098: I external/local_xla/xla/stream_executor/cuda/subprocess_compilation.cc:346] ptxas warning : Registers are spilled to local memory in function 'gemm_fusion_dot_19119', 260 bytes spill stores, 260 bytes spill loads\n",
      "\n",
      "2025-04-15 23:12:14.263942: I external/local_xla/xla/stream_executor/cuda/subprocess_compilation.cc:346] ptxas warning : Registers are spilled to local memory in function 'gemm_fusion_dot_19119', 280 bytes spill stores, 280 bytes spill loads\n",
      "\n",
      "2025-04-15 23:12:14.281562: I external/local_xla/xla/stream_executor/cuda/subprocess_compilation.cc:346] ptxas warning : Registers are spilled to local memory in function 'gemm_fusion_dot_40', 544 bytes spill stores, 412 bytes spill loads\n",
      "\n",
      "2025-04-15 23:12:14.666547: I external/local_xla/xla/stream_executor/cuda/subprocess_compilation.cc:346] ptxas warning : Registers are spilled to local memory in function 'gemm_fusion_dot_18710', 1744 bytes spill stores, 1748 bytes spill loads\n",
      "\n"
     ]
    },
    {
     "name": "stdout",
     "output_type": "stream",
     "text": [
      "\u001b[1m190/191\u001b[0m \u001b[32m━━━━━━━━━━━━━━━━━━━\u001b[0m\u001b[37m━\u001b[0m \u001b[1m0s\u001b[0m 291ms/step - accuracy: 0.7016 - loss: 0.5768"
     ]
    },
    {
     "name": "stderr",
     "output_type": "stream",
     "text": [
      "2025-04-15 23:13:22.614925: I external/local_xla/xla/stream_executor/cuda/subprocess_compilation.cc:346] ptxas warning : Registers are spilled to local memory in function 'gemm_fusion_dot_139', 240 bytes spill stores, 240 bytes spill loads\n",
      "\n",
      "2025-04-15 23:13:22.628182: I external/local_xla/xla/stream_executor/cuda/subprocess_compilation.cc:346] ptxas warning : Registers are spilled to local memory in function 'gemm_fusion_dot_139', 248 bytes spill stores, 248 bytes spill loads\n",
      "\n",
      "2025-04-15 23:13:22.660176: I external/local_xla/xla/stream_executor/cuda/subprocess_compilation.cc:346] ptxas warning : Registers are spilled to local memory in function 'gemm_fusion_dot_139', 432 bytes spill stores, 344 bytes spill loads\n",
      "\n",
      "2025-04-15 23:13:22.694501: I external/local_xla/xla/stream_executor/cuda/subprocess_compilation.cc:346] ptxas warning : Registers are spilled to local memory in function 'gemm_fusion_dot_139', 632 bytes spill stores, 632 bytes spill loads\n",
      "\n",
      "2025-04-15 23:13:22.780982: I external/local_xla/xla/stream_executor/cuda/subprocess_compilation.cc:346] ptxas warning : Registers are spilled to local memory in function 'gemm_fusion_dot_139', 888 bytes spill stores, 888 bytes spill loads\n",
      "\n",
      "2025-04-15 23:13:22.788773: I external/local_xla/xla/stream_executor/cuda/subprocess_compilation.cc:346] ptxas warning : Registers are spilled to local memory in function 'gemm_fusion_dot_36', 8 bytes spill stores, 8 bytes spill loads\n",
      "\n",
      "2025-04-15 23:13:22.795409: I external/local_xla/xla/stream_executor/cuda/subprocess_compilation.cc:346] ptxas warning : Registers are spilled to local memory in function 'gemm_fusion_dot_139', 428 bytes spill stores, 340 bytes spill loads\n",
      "\n",
      "2025-04-15 23:13:22.836772: I external/local_xla/xla/stream_executor/cuda/subprocess_compilation.cc:346] ptxas warning : Registers are spilled to local memory in function 'gemm_fusion_dot_150', 180 bytes spill stores, 180 bytes spill loads\n",
      "\n",
      "2025-04-15 23:13:22.899529: I external/local_xla/xla/stream_executor/cuda/subprocess_compilation.cc:346] ptxas warning : Registers are spilled to local memory in function 'gemm_fusion_dot_150', 184 bytes spill stores, 184 bytes spill loads\n",
      "\n",
      "2025-04-15 23:13:23.054207: I external/local_xla/xla/stream_executor/cuda/subprocess_compilation.cc:346] ptxas warning : Registers are spilled to local memory in function 'gemm_fusion_dot_139', 972 bytes spill stores, 872 bytes spill loads\n",
      "\n",
      "2025-04-15 23:13:23.148711: I external/local_xla/xla/stream_executor/cuda/subprocess_compilation.cc:346] ptxas warning : Registers are spilled to local memory in function 'gemm_fusion_dot_139', 540 bytes spill stores, 416 bytes spill loads\n",
      "\n",
      "2025-04-15 23:13:23.183041: I external/local_xla/xla/stream_executor/cuda/subprocess_compilation.cc:346] ptxas warning : Registers are spilled to local memory in function 'gemm_fusion_dot_38', 60 bytes spill stores, 60 bytes spill loads\n",
      "\n",
      "2025-04-15 23:13:23.349101: I external/local_xla/xla/stream_executor/cuda/subprocess_compilation.cc:346] ptxas warning : Registers are spilled to local memory in function 'gemm_fusion_dot_36', 244 bytes spill stores, 244 bytes spill loads\n",
      "\n",
      "2025-04-15 23:13:23.349162: I external/local_xla/xla/stream_executor/cuda/subprocess_compilation.cc:346] ptxas warning : Registers are spilled to local memory in function 'gemm_fusion_dot_139', 28 bytes spill stores, 28 bytes spill loads\n",
      "\n",
      "2025-04-15 23:13:23.445146: I external/local_xla/xla/stream_executor/cuda/subprocess_compilation.cc:346] ptxas warning : Registers are spilled to local memory in function 'gemm_fusion_dot_150', 236 bytes spill stores, 236 bytes spill loads\n",
      "\n",
      "2025-04-15 23:13:23.642457: I external/local_xla/xla/stream_executor/cuda/subprocess_compilation.cc:346] ptxas warning : Registers are spilled to local memory in function 'gemm_fusion_dot_36', 900 bytes spill stores, 616 bytes spill loads\n",
      "\n",
      "2025-04-15 23:13:23.725186: I external/local_xla/xla/stream_executor/cuda/subprocess_compilation.cc:346] ptxas warning : Registers are spilled to local memory in function 'gemm_fusion_dot_38_0', 856 bytes spill stores, 1424 bytes spill loads\n",
      "\n",
      "2025-04-15 23:13:23.832899: I external/local_xla/xla/stream_executor/cuda/subprocess_compilation.cc:346] ptxas warning : Registers are spilled to local memory in function 'gemm_fusion_dot_36', 60 bytes spill stores, 60 bytes spill loads\n",
      "\n",
      "2025-04-15 23:13:23.884367: I external/local_xla/xla/stream_executor/cuda/subprocess_compilation.cc:346] ptxas warning : Registers are spilled to local memory in function 'gemm_fusion_dot_150', 260 bytes spill stores, 264 bytes spill loads\n",
      "\n",
      "2025-04-15 23:13:23.966421: I external/local_xla/xla/stream_executor/cuda/subprocess_compilation.cc:346] ptxas warning : Registers are spilled to local memory in function 'gemm_fusion_dot_36', 44 bytes spill stores, 44 bytes spill loads\n",
      "\n",
      "2025-04-15 23:13:23.970830: I external/local_xla/xla/stream_executor/cuda/subprocess_compilation.cc:346] ptxas warning : Registers are spilled to local memory in function 'gemm_fusion_dot_38', 244 bytes spill stores, 244 bytes spill loads\n",
      "\n",
      "2025-04-15 23:13:24.301807: I external/local_xla/xla/stream_executor/cuda/subprocess_compilation.cc:346] ptxas warning : Registers are spilled to local memory in function 'gemm_fusion_dot_38', 44 bytes spill stores, 44 bytes spill loads\n",
      "\n",
      "2025-04-15 23:13:24.410053: I external/local_xla/xla/stream_executor/cuda/subprocess_compilation.cc:346] ptxas warning : Registers are spilled to local memory in function 'gemm_fusion_dot_165', 528 bytes spill stores, 528 bytes spill loads\n",
      "\n",
      "2025-04-15 23:13:24.510059: I external/local_xla/xla/stream_executor/cuda/subprocess_compilation.cc:346] ptxas warning : Registers are spilled to local memory in function 'gemm_fusion_dot_164_0', 388 bytes spill stores, 388 bytes spill loads\n",
      "\n",
      "2025-04-15 23:13:24.600495: I external/local_xla/xla/stream_executor/cuda/subprocess_compilation.cc:346] ptxas warning : Registers are spilled to local memory in function 'gemm_fusion_dot_150', 544 bytes spill stores, 544 bytes spill loads\n",
      "\n",
      "2025-04-15 23:13:25.020141: I external/local_xla/xla/stream_executor/cuda/subprocess_compilation.cc:346] ptxas warning : Registers are spilled to local memory in function 'gemm_fusion_dot_165', 868 bytes spill stores, 868 bytes spill loads\n",
      "\n",
      "2025-04-15 23:13:25.069475: I external/local_xla/xla/stream_executor/cuda/subprocess_compilation.cc:346] ptxas warning : Registers are spilled to local memory in function 'gemm_fusion_dot_18710', 1744 bytes spill stores, 1748 bytes spill loads\n",
      "\n",
      "2025-04-15 23:13:25.141376: I external/local_xla/xla/stream_executor/cuda/subprocess_compilation.cc:346] ptxas warning : Registers are spilled to local memory in function 'gemm_fusion_dot_164', 492 bytes spill stores, 492 bytes spill loads\n",
      "\n",
      "2025-04-15 23:13:25.283111: I external/local_xla/xla/stream_executor/cuda/subprocess_compilation.cc:346] ptxas warning : Registers are spilled to local memory in function 'gemm_fusion_dot_79', 836 bytes spill stores, 836 bytes spill loads\n",
      "\n",
      "2025-04-15 23:13:25.478923: I external/local_xla/xla/stream_executor/cuda/subprocess_compilation.cc:346] ptxas warning : Registers are spilled to local memory in function 'gemm_fusion_dot_40', 188 bytes spill stores, 188 bytes spill loads\n",
      "\n",
      "2025-04-15 23:13:25.479277: I external/local_xla/xla/stream_executor/cuda/subprocess_compilation.cc:346] ptxas warning : Registers are spilled to local memory in function 'gemm_fusion_dot_40', 24 bytes spill stores, 24 bytes spill loads\n",
      "\n",
      "2025-04-15 23:13:25.567152: I external/local_xla/xla/stream_executor/cuda/subprocess_compilation.cc:346] ptxas warning : Registers are spilled to local memory in function 'gemm_fusion_dot_18710', 184 bytes spill stores, 184 bytes spill loads\n",
      "\n",
      "2025-04-15 23:13:25.580121: I external/local_xla/xla/stream_executor/cuda/subprocess_compilation.cc:346] ptxas warning : Registers are spilled to local memory in function 'gemm_fusion_dot_38', 8 bytes spill stores, 8 bytes spill loads\n",
      "\n",
      "2025-04-15 23:13:25.819690: I external/local_xla/xla/stream_executor/cuda/subprocess_compilation.cc:346] ptxas warning : Registers are spilled to local memory in function 'gemm_fusion_dot_38_0', 2188 bytes spill stores, 2436 bytes spill loads\n",
      "\n",
      "2025-04-15 23:13:25.892781: I external/local_xla/xla/stream_executor/cuda/subprocess_compilation.cc:346] ptxas warning : Registers are spilled to local memory in function 'gemm_fusion_dot_164', 348 bytes spill stores, 348 bytes spill loads\n",
      "\n",
      "2025-04-15 23:13:25.973515: I external/local_xla/xla/stream_executor/cuda/subprocess_compilation.cc:346] ptxas warning : Registers are spilled to local memory in function 'gemm_fusion_dot_79', 588 bytes spill stores, 492 bytes spill loads\n",
      "\n",
      "2025-04-15 23:13:25.979947: I external/local_xla/xla/stream_executor/cuda/subprocess_compilation.cc:346] ptxas warning : Registers are spilled to local memory in function 'gemm_fusion_dot_164', 960 bytes spill stores, 960 bytes spill loads\n",
      "\n",
      "2025-04-15 23:13:26.270204: I external/local_xla/xla/stream_executor/cuda/subprocess_compilation.cc:346] ptxas warning : Registers are spilled to local memory in function 'gemm_fusion_dot_18710', 468 bytes spill stores, 468 bytes spill loads\n",
      "\n",
      "2025-04-15 23:13:26.284352: I external/local_xla/xla/stream_executor/cuda/subprocess_compilation.cc:346] ptxas warning : Registers are spilled to local memory in function 'gemm_fusion_dot_79', 624 bytes spill stores, 624 bytes spill loads\n",
      "\n",
      "2025-04-15 23:13:26.315113: I external/local_xla/xla/stream_executor/cuda/subprocess_compilation.cc:346] ptxas warning : Registers are spilled to local memory in function 'gemm_fusion_dot_40', 4916 bytes spill stores, 4952 bytes spill loads\n",
      "\n",
      "2025-04-15 23:13:26.387312: I external/local_xla/xla/stream_executor/cuda/subprocess_compilation.cc:346] ptxas warning : Registers are spilled to local memory in function 'gemm_fusion_dot_40', 544 bytes spill stores, 412 bytes spill loads\n",
      "\n",
      "2025-04-15 23:13:26.397551: I external/local_xla/xla/stream_executor/cuda/subprocess_compilation.cc:346] ptxas warning : Registers are spilled to local memory in function 'gemm_fusion_dot_19119', 172 bytes spill stores, 172 bytes spill loads\n",
      "\n",
      "2025-04-15 23:13:26.532456: I external/local_xla/xla/stream_executor/cuda/subprocess_compilation.cc:346] ptxas warning : Registers are spilled to local memory in function 'gemm_fusion_dot_18710', 4 bytes spill stores, 4 bytes spill loads\n",
      "\n",
      "2025-04-15 23:13:26.540036: I external/local_xla/xla/stream_executor/cuda/subprocess_compilation.cc:346] ptxas warning : Registers are spilled to local memory in function 'gemm_fusion_dot_79', 168 bytes spill stores, 168 bytes spill loads\n",
      "\n",
      "2025-04-15 23:13:26.688063: I external/local_xla/xla/stream_executor/cuda/subprocess_compilation.cc:346] ptxas warning : Registers are spilled to local memory in function 'gemm_fusion_dot_19119', 76 bytes spill stores, 76 bytes spill loads\n",
      "\n",
      "2025-04-15 23:13:26.688355: I external/local_xla/xla/stream_executor/cuda/subprocess_compilation.cc:346] ptxas warning : Registers are spilled to local memory in function 'gemm_fusion_dot_79', 1976 bytes spill stores, 1980 bytes spill loads\n",
      "\n",
      "2025-04-15 23:13:26.828245: I external/local_xla/xla/stream_executor/cuda/subprocess_compilation.cc:346] ptxas warning : Registers are spilled to local memory in function 'gemm_fusion_dot_79', 184 bytes spill stores, 184 bytes spill loads\n",
      "\n",
      "2025-04-15 23:13:26.941419: I external/local_xla/xla/stream_executor/cuda/subprocess_compilation.cc:346] ptxas warning : Registers are spilled to local memory in function 'gemm_fusion_dot_18710', 172 bytes spill stores, 172 bytes spill loads\n",
      "\n",
      "2025-04-15 23:13:27.010907: I external/local_xla/xla/stream_executor/cuda/subprocess_compilation.cc:346] ptxas warning : Registers are spilled to local memory in function 'gemm_fusion_dot_19119', 184 bytes spill stores, 184 bytes spill loads\n",
      "\n",
      "2025-04-15 23:13:27.089927: I external/local_xla/xla/stream_executor/cuda/subprocess_compilation.cc:346] ptxas warning : Registers are spilled to local memory in function 'gemm_fusion_dot_18710', 76 bytes spill stores, 76 bytes spill loads\n",
      "\n",
      "2025-04-15 23:13:27.091516: I external/local_xla/xla/stream_executor/cuda/subprocess_compilation.cc:346] ptxas warning : Registers are spilled to local memory in function 'gemm_fusion_dot_165_0', 420 bytes spill stores, 420 bytes spill loads\n",
      "\n",
      "2025-04-15 23:13:27.156652: I external/local_xla/xla/stream_executor/cuda/subprocess_compilation.cc:346] ptxas warning : Registers are spilled to local memory in function 'gemm_fusion_dot_79', 72 bytes spill stores, 72 bytes spill loads\n",
      "\n",
      "2025-04-15 23:13:27.221960: I external/local_xla/xla/stream_executor/cuda/subprocess_compilation.cc:346] ptxas warning : Registers are spilled to local memory in function 'gemm_fusion_dot_19119', 4 bytes spill stores, 4 bytes spill loads\n",
      "\n",
      "2025-04-15 23:13:27.461847: I external/local_xla/xla/stream_executor/cuda/subprocess_compilation.cc:346] ptxas warning : Registers are spilled to local memory in function 'gemm_fusion_dot_18710', 280 bytes spill stores, 280 bytes spill loads\n",
      "\n",
      "2025-04-15 23:13:27.499783: I external/local_xla/xla/stream_executor/cuda/subprocess_compilation.cc:346] ptxas warning : Registers are spilled to local memory in function 'gemm_fusion_dot_18710', 260 bytes spill stores, 260 bytes spill loads\n",
      "\n",
      "2025-04-15 23:13:27.517903: I external/local_xla/xla/stream_executor/cuda/subprocess_compilation.cc:346] ptxas warning : Registers are spilled to local memory in function 'gemm_fusion_dot_40', 416 bytes spill stores, 324 bytes spill loads\n",
      "\n",
      "2025-04-15 23:13:27.588355: I external/local_xla/xla/stream_executor/cuda/subprocess_compilation.cc:346] ptxas warning : Registers are spilled to local memory in function 'gemm_fusion_dot_18710', 632 bytes spill stores, 632 bytes spill loads\n",
      "\n",
      "2025-04-15 23:13:27.600612: I external/local_xla/xla/stream_executor/cuda/subprocess_compilation.cc:346] ptxas warning : Registers are spilled to local memory in function 'gemm_fusion_dot_40_0', 2876 bytes spill stores, 3708 bytes spill loads\n",
      "\n",
      "2025-04-15 23:13:27.648262: I external/local_xla/xla/stream_executor/cuda/subprocess_compilation.cc:346] ptxas warning : Registers are spilled to local memory in function 'gemm_fusion_dot_164', 1848 bytes spill stores, 1916 bytes spill loads\n",
      "\n",
      "2025-04-15 23:13:27.680825: I external/local_xla/xla/stream_executor/cuda/subprocess_compilation.cc:346] ptxas warning : Registers are spilled to local memory in function 'gemm_fusion_dot_18710', 864 bytes spill stores, 864 bytes spill loads\n",
      "\n",
      "2025-04-15 23:13:27.823147: I external/local_xla/xla/stream_executor/cuda/subprocess_compilation.cc:346] ptxas warning : Registers are spilled to local memory in function 'gemm_fusion_dot_19119', 468 bytes spill stores, 468 bytes spill loads\n",
      "\n",
      "2025-04-15 23:13:27.843933: I external/local_xla/xla/stream_executor/cuda/subprocess_compilation.cc:346] ptxas warning : Registers are spilled to local memory in function 'gemm_fusion_dot_79', 600 bytes spill stores, 504 bytes spill loads\n",
      "\n",
      "2025-04-15 23:13:27.844467: I external/local_xla/xla/stream_executor/cuda/subprocess_compilation.cc:346] ptxas warning : Registers are spilled to local memory in function 'gemm_fusion_dot_40', 444 bytes spill stores, 352 bytes spill loads\n",
      "\n",
      "2025-04-15 23:13:27.868599: I external/local_xla/xla/stream_executor/cuda/subprocess_compilation.cc:346] ptxas warning : Registers are spilled to local memory in function 'gemm_fusion_dot_19119', 260 bytes spill stores, 260 bytes spill loads\n",
      "\n",
      "2025-04-15 23:13:27.932360: I external/local_xla/xla/stream_executor/cuda/subprocess_compilation.cc:346] ptxas warning : Registers are spilled to local memory in function 'gemm_fusion_dot_19119', 260 bytes spill stores, 260 bytes spill loads\n",
      "\n",
      "2025-04-15 23:13:27.972669: I external/local_xla/xla/stream_executor/cuda/subprocess_compilation.cc:346] ptxas warning : Registers are spilled to local memory in function 'gemm_fusion_dot_79', 664 bytes spill stores, 540 bytes spill loads\n",
      "\n",
      "2025-04-15 23:13:27.977638: I external/local_xla/xla/stream_executor/cuda/subprocess_compilation.cc:346] ptxas warning : Registers are spilled to local memory in function 'gemm_fusion_dot_40', 5360 bytes spill stores, 5360 bytes spill loads\n",
      "\n",
      "2025-04-15 23:13:27.993618: I external/local_xla/xla/stream_executor/cuda/subprocess_compilation.cc:346] ptxas warning : Registers are spilled to local memory in function 'gemm_fusion_dot_18710', 264 bytes spill stores, 264 bytes spill loads\n",
      "\n",
      "2025-04-15 23:13:28.312588: I external/local_xla/xla/stream_executor/cuda/subprocess_compilation.cc:346] ptxas warning : Registers are spilled to local memory in function 'gemm_fusion_dot_165', 404 bytes spill stores, 404 bytes spill loads\n",
      "\n",
      "2025-04-15 23:13:28.346776: I external/local_xla/xla/stream_executor/cuda/subprocess_compilation.cc:346] ptxas warning : Registers are spilled to local memory in function 'gemm_fusion_dot_19119', 632 bytes spill stores, 632 bytes spill loads\n",
      "\n",
      "2025-04-15 23:13:28.569779: I external/local_xla/xla/stream_executor/cuda/subprocess_compilation.cc:346] ptxas warning : Registers are spilled to local memory in function 'gemm_fusion_dot_19119', 864 bytes spill stores, 864 bytes spill loads\n",
      "\n",
      "2025-04-15 23:13:28.605704: I external/local_xla/xla/stream_executor/cuda/subprocess_compilation.cc:346] ptxas warning : Registers are spilled to local memory in function 'gemm_fusion_dot_19119', 280 bytes spill stores, 280 bytes spill loads\n",
      "\n",
      "2025-04-15 23:13:28.606485: I external/local_xla/xla/stream_executor/cuda/subprocess_compilation.cc:346] ptxas warning : Registers are spilled to local memory in function 'gemm_fusion_dot_19119', 1744 bytes spill stores, 1720 bytes spill loads\n",
      "\n",
      "2025-04-15 23:13:28.662748: I external/local_xla/xla/stream_executor/cuda/subprocess_compilation.cc:346] ptxas warning : Registers are spilled to local memory in function 'gemm_fusion_dot_79', 456 bytes spill stores, 456 bytes spill loads\n",
      "\n",
      "2025-04-15 23:13:28.766866: I external/local_xla/xla/stream_executor/cuda/subprocess_compilation.cc:346] ptxas warning : Registers are spilled to local memory in function 'gemm_fusion_dot_40_0', 448 bytes spill stores, 1248 bytes spill loads\n",
      "\n",
      "2025-04-15 23:13:28.788163: I external/local_xla/xla/stream_executor/cuda/subprocess_compilation.cc:346] ptxas warning : Registers are spilled to local memory in function 'gemm_fusion_dot_165', 3976 bytes spill stores, 3556 bytes spill loads\n",
      "\n"
     ]
    },
    {
     "name": "stdout",
     "output_type": "stream",
     "text": [
      "\u001b[1m191/191\u001b[0m \u001b[32m━━━━━━━━━━━━━━━━━━━━\u001b[0m\u001b[37m\u001b[0m \u001b[1m0s\u001b[0m 383ms/step - accuracy: 0.7020 - loss: 0.5764"
     ]
    },
    {
     "name": "stderr",
     "output_type": "stream",
     "text": [
      "2025-04-15 23:13:42.080043: I external/local_xla/xla/stream_executor/cuda/subprocess_compilation.cc:346] ptxas warning : Registers are spilled to local memory in function 'gemm_fusion_dot_43', 632 bytes spill stores, 632 bytes spill loads\n",
      "\n",
      "2025-04-15 23:13:42.115815: I external/local_xla/xla/stream_executor/cuda/subprocess_compilation.cc:346] ptxas warning : Registers are spilled to local memory in function 'gemm_fusion_dot_43', 888 bytes spill stores, 888 bytes spill loads\n",
      "\n",
      "2025-04-15 23:13:42.129537: I external/local_xla/xla/stream_executor/cuda/subprocess_compilation.cc:346] ptxas warning : Registers are spilled to local memory in function 'gemm_fusion_dot_54', 180 bytes spill stores, 180 bytes spill loads\n",
      "\n",
      "2025-04-15 23:13:42.139612: I external/local_xla/xla/stream_executor/cuda/subprocess_compilation.cc:346] ptxas warning : Registers are spilled to local memory in function 'gemm_fusion_dot_43', 432 bytes spill stores, 344 bytes spill loads\n",
      "\n",
      "2025-04-15 23:13:42.150294: I external/local_xla/xla/stream_executor/cuda/subprocess_compilation.cc:346] ptxas warning : Registers are spilled to local memory in function 'gemm_fusion_dot_43', 248 bytes spill stores, 248 bytes spill loads\n",
      "\n",
      "2025-04-15 23:13:42.199531: I external/local_xla/xla/stream_executor/cuda/subprocess_compilation.cc:346] ptxas warning : Registers are spilled to local memory in function 'gemm_fusion_dot_43', 240 bytes spill stores, 240 bytes spill loads\n",
      "\n",
      "2025-04-15 23:13:42.282127: I external/local_xla/xla/stream_executor/cuda/subprocess_compilation.cc:346] ptxas warning : Registers are spilled to local memory in function 'gemm_fusion_dot_43', 972 bytes spill stores, 872 bytes spill loads\n",
      "\n",
      "2025-04-15 23:13:42.324906: I external/local_xla/xla/stream_executor/cuda/subprocess_compilation.cc:346] ptxas warning : Registers are spilled to local memory in function 'gemm_fusion_dot_43', 540 bytes spill stores, 416 bytes spill loads\n",
      "\n",
      "2025-04-15 23:13:42.400209: I external/local_xla/xla/stream_executor/cuda/subprocess_compilation.cc:346] ptxas warning : Registers are spilled to local memory in function 'gemm_fusion_dot_54', 260 bytes spill stores, 264 bytes spill loads\n",
      "\n",
      "2025-04-15 23:13:42.425184: I external/local_xla/xla/stream_executor/cuda/subprocess_compilation.cc:346] ptxas warning : Registers are spilled to local memory in function 'gemm_fusion_dot_54', 544 bytes spill stores, 544 bytes spill loads\n",
      "\n",
      "2025-04-15 23:13:42.617464: I external/local_xla/xla/stream_executor/cuda/subprocess_compilation.cc:346] ptxas warning : Registers are spilled to local memory in function 'gemm_fusion_dot_43', 28 bytes spill stores, 28 bytes spill loads\n",
      "\n",
      "2025-04-15 23:13:42.640468: I external/local_xla/xla/stream_executor/cuda/subprocess_compilation.cc:346] ptxas warning : Registers are spilled to local memory in function 'gemm_fusion_dot_54', 184 bytes spill stores, 184 bytes spill loads\n",
      "\n",
      "2025-04-15 23:13:42.719144: I external/local_xla/xla/stream_executor/cuda/subprocess_compilation.cc:346] ptxas warning : Registers are spilled to local memory in function 'gemm_fusion_dot_54', 236 bytes spill stores, 236 bytes spill loads\n",
      "\n",
      "2025-04-15 23:13:42.724743: I external/local_xla/xla/stream_executor/cuda/subprocess_compilation.cc:346] ptxas warning : Registers are spilled to local memory in function 'gemm_fusion_dot_54', 544 bytes spill stores, 544 bytes spill loads\n",
      "\n",
      "2025-04-15 23:13:42.831669: I external/local_xla/xla/stream_executor/cuda/subprocess_compilation.cc:346] ptxas warning : Registers are spilled to local memory in function 'gemm_fusion_dot_43', 428 bytes spill stores, 340 bytes spill loads\n",
      "\n"
     ]
    },
    {
     "name": "stdout",
     "output_type": "stream",
     "text": [
      "\u001b[1m191/191\u001b[0m \u001b[32m━━━━━━━━━━━━━━━━━━━━\u001b[0m\u001b[37m\u001b[0m \u001b[1m106s\u001b[0m 421ms/step - accuracy: 0.7023 - loss: 0.5760 - val_accuracy: 0.8102 - val_loss: 0.4317\n",
      "Epoch 2/2\n",
      "\u001b[1m191/191\u001b[0m \u001b[32m━━━━━━━━━━━━━━━━━━━━\u001b[0m\u001b[37m\u001b[0m \u001b[1m53s\u001b[0m 231ms/step - accuracy: 0.8364 - loss: 0.3957 - val_accuracy: 0.8194 - val_loss: 0.4116\n"
     ]
    }
   ],
   "source": [
    "classifier.compile(\n",
    "    loss=K.losses.SparseCategoricalCrossentropy(from_logits=True),\n",
    "    optimizer=K.optimizers.Adam(1e-5),\n",
    "    metrics= [\"accuracy\"]\n",
    ")\n",
    "first_model = classifier.fit(x=X_train,\n",
    "                         y=y_train,\n",
    "                         batch_size=batch_size,\n",
    "                         epochs=epochs,\n",
    "                         validation_data=(X_val, y_val)\n",
    "                         )"
   ]
  },
  {
   "cell_type": "markdown",
   "id": "cbeede81",
   "metadata": {},
   "source": [
    "### Training Accuracy\n",
    "Let's see what our training accuracy looks like"
   ]
  },
  {
   "cell_type": "code",
   "execution_count": 28,
   "id": "7edfc85c",
   "metadata": {},
   "outputs": [
    {
     "name": "stdout",
     "output_type": "stream",
     "text": [
      "\u001b[1m189/191\u001b[0m \u001b[32m━━━━━━━━━━━━━━━━━━━\u001b[0m\u001b[37m━\u001b[0m \u001b[1m0s\u001b[0m 81ms/step"
     ]
    },
    {
     "name": "stderr",
     "output_type": "stream",
     "text": [
      "2025-04-15 23:14:55.282070: I external/local_xla/xla/stream_executor/cuda/subprocess_compilation.cc:346] ptxas warning : Registers are spilled to local memory in function 'gemm_fusion_dot_1886', 96 bytes spill stores, 96 bytes spill loads\n",
      "\n",
      "2025-04-15 23:14:55.435337: I external/local_xla/xla/stream_executor/cuda/subprocess_compilation.cc:346] ptxas warning : Registers are spilled to local memory in function 'gemm_fusion_dot_1886', 924 bytes spill stores, 924 bytes spill loads\n",
      "\n"
     ]
    },
    {
     "name": "stdout",
     "output_type": "stream",
     "text": [
      "\u001b[1m191/191\u001b[0m \u001b[32m━━━━━━━━━━━━━━━━━━━━\u001b[0m\u001b[37m\u001b[0m \u001b[1m19s\u001b[0m 93ms/step\n"
     ]
    },
    {
     "data": {
      "text/plain": [
       "Text(0.5, 1.0, 'Confusion Matrix on Training Dataset - F1 Score: 0.85')"
      ]
     },
     "execution_count": 28,
     "metadata": {},
     "output_type": "execute_result"
    },
    {
     "data": {
      "image/png": "[encoded data removed]",
      "text/plain": [
       "<Figure size 640x480 with 2 Axes>"
      ]
     },
     "metadata": {},
     "output_type": "display_data"
    }
   ],
   "source": [
    "y_pred_train = classifier.predict(X_train)\n",
    "\n",
    "display_train = ConfusionMatrixDisplay.from_predictions(\n",
    "    y_train,\n",
    "    np.argmax(y_pred_train, axis=1),\n",
    "    display_labels=[\"Not Disaster\",\"Disaster\"],\n",
    "    cmap=plt.cm.Blues\n",
    ")\n",
    "\n",
    "tn, fp, fn, tp = confusion_matrix(y_train, np.argmax(y_pred_train, axis=1)).ravel()\n",
    "f1_score = tp / (tp+((fn+fp)/2))\n",
    "\n",
    "display_train.ax_.set_title(f\"Confusion Matrix on Training Dataset - F1 Score: {f1_score.round(2)}\")"
   ]
  },
  {
   "cell_type": "markdown",
   "id": "33ad93ee",
   "metadata": {},
   "source": [
    "We got an F1 score of 0.85 which is pretty good for our slightly more optimized training data."
   ]
  },
  {
   "cell_type": "markdown",
   "id": "6242117c",
   "metadata": {},
   "source": [
    "### Test Accuracy"
   ]
  },
  {
   "cell_type": "code",
   "execution_count": 29,
   "id": "59e84d00",
   "metadata": {},
   "outputs": [
    {
     "name": "stdout",
     "output_type": "stream",
     "text": [
      "\u001b[1m48/48\u001b[0m \u001b[32m━━━━━━━━━━━━━━━━━━━━\u001b[0m\u001b[37m\u001b[0m \u001b[1m13s\u001b[0m 274ms/step\n"
     ]
    },
    {
     "data": {
      "text/plain": [
       "Text(0.5, 1.0, 'Confusion Matrix on Training Dataset - F1 Score: 0.77')"
      ]
     },
     "execution_count": 29,
     "metadata": {},
     "output_type": "execute_result"
    },
    {
     "data": {
      "image/png": "[encoded data removed]",
      "text/plain": [
       "<Figure size 640x480 with 2 Axes>"
      ]
     },
     "metadata": {},
     "output_type": "display_data"
    }
   ],
   "source": [
    "y_pred_val = classifier.predict(X_val)\n",
    "\n",
    "display_valid = ConfusionMatrixDisplay.from_predictions(\n",
    "    y_val,\n",
    "    np.argmax(y_pred_val, axis=1),\n",
    "    display_labels=[\"Not Disaster\",\"Disaster\"],\n",
    "    cmap=plt.cm.Blues\n",
    ")\n",
    "\n",
    "tn, fp, fn, tp = confusion_matrix(y_val, np.argmax(y_pred_val, axis=1)).ravel()\n",
    "f1_score = tp / (tp+((fn+fp)/2))\n",
    "\n",
    "display_valid.ax_.set_title(f\"Confusion Matrix on Training Dataset - F1 Score: {f1_score.round(2)}\")"
   ]
  },
  {
   "cell_type": "markdown",
   "id": "ed820942",
   "metadata": {},
   "source": [
    "Our test accuracy went up slightly as well by 0.02."
   ]
  },
  {
   "cell_type": "markdown",
   "id": "6f9d14be",
   "metadata": {},
   "source": [
    "# Second Model Logistical Regression\n",
    "Using TF-IDF which converts text to numerical representations to allow it to be used by the machine learning models like LogisticRegression"
   ]
  },
  {
   "cell_type": "code",
   "execution_count": null,
   "id": "6093b792",
   "metadata": {},
   "outputs": [
    {
     "name": "stdout",
     "output_type": "stream",
     "text": [
      "Text train shape: (7613, 5000)\n"
     ]
    }
   ],
   "source": [
    "from sklearn.feature_extraction.text import TfidfVectorizer\n",
    "\n",
    "tfidf = TfidfVectorizer(max_features=5000, ngram_range=(1, 2))\n",
    "vectorizer = TfidfVectorizer()\n",
    "\n",
    "target_train = train_data_df[\"target\"]\n",
    "\n",
    "text_train = tfidf.fit_transform(train_data_df[\"text\"])\n",
    "text_test = tfidf.transform(test_data_df[\"text\"])\n",
    "print('Text train shape:', text_train.shape)\n",
    "\n",
    "X_train, X_val, y_train, y_val = train_test_split(text_train, target_train, test_size=0.25, random_state=123)"
   ]
  },
  {
   "cell_type": "code",
   "execution_count": null,
   "id": "40cd2b2a",
   "metadata": {},
   "outputs": [
    {
     "name": "stdout",
     "output_type": "stream",
     "text": [
      "Validation Accuracy: 0.80\n",
      "Classification Report:\n",
      "              precision    recall  f1-score   support\n",
      "\n",
      "           0       0.79      0.90      0.84      1097\n",
      "           1       0.83      0.68      0.74       807\n",
      "\n",
      "    accuracy                           0.80      1904\n",
      "   macro avg       0.81      0.79      0.79      1904\n",
      "weighted avg       0.81      0.80      0.80      1904\n",
      "\n",
      "Confusion Matrix:\n",
      "[[985 112]\n",
      " [262 545]]\n"
     ]
    }
   ],
   "source": [
    "from sklearn.linear_model import LogisticRegression\n",
    "from sklearn.metrics import accuracy_score, classification_report, confusion_matrix\n",
    "\n",
    "log_reg_model = LogisticRegression(max_iter=750, random_state=123)\n",
    "log_reg_model.fit(X_train, y_train)\n",
    "\n",
    "y_pred = log_reg_model.predict(X_val)\n",
    "\n",
    "accuracy = accuracy_score(y_val, y_pred)\n",
    "print(f\"Validation Accuracy: {accuracy:.2f}\")\n",
    "\n",
    "print(\"Classification Report:\")\n",
    "print(classification_report(y_val, y_pred))\n",
    "\n",
    "print(\"Confusion Matrix:\")\n",
    "print(confusion_matrix(y_val, y_pred))"
   ]
  },
  {
   "cell_type": "markdown",
   "id": "646a8f4e",
   "metadata": {},
   "source": [
    "That took no time at all to get a training accuracy of 0.80 compared to the deep learning model."
   ]
  },
  {
   "cell_type": "markdown",
   "id": "cbb8cd96",
   "metadata": {},
   "source": [
    "### Checking Actual Test Accuracy"
   ]
  },
  {
   "cell_type": "code",
   "execution_count": 36,
   "id": "20235f6a",
   "metadata": {},
   "outputs": [
    {
     "name": "stdout",
     "output_type": "stream",
     "text": [
      "Test Accuracy: 0.73\n"
     ]
    }
   ],
   "source": [
    "y_pred_test = log_reg_model.predict(text_test)\n",
    "\n",
    "accuracy = accuracy_score(sample_data_df[\"target\"], y_pred_test)\n",
    "print(f\"Test Accuracy: {accuracy:.2f}\")"
   ]
  },
  {
   "cell_type": "markdown",
   "id": "a14c113c",
   "metadata": {},
   "source": [
    "Our accuracy is slightly lower at 0.73 but the time savings is incomparable, almost instant versus 20 minutes of training against the deep learning model."
   ]
  },
  {
   "cell_type": "markdown",
   "id": "3d61995c",
   "metadata": {},
   "source": [
    "# Conclusion\n",
    "\n",
    "- Deep learning models with `DistilBert` took about 20 minutes to learn the data and was able to more easily predict unseen data compared to my Supervised learning model with LogisticRegression.\n",
    "- LogisticRegression speed was almost instant in comparison to the deep learning model while only being 0.05 less accurate on the test data.\n",
    "- I would like to run some automated hyperparameter optimizations on the deep learning model but didn't for the sake of time left in the class.\n",
    "- Increasing batch size for the deep learning model made it much worse in accuracy, I dropped to around 50% on training accuracy.\n",
    "- On smaller datasets, it might be more worthwhile to try supervised models for quick and easy efficiency and leave the deep learning for massive datasets."
   ]
  },
  {
   "cell_type": "markdown",
   "id": "eb3114e4",
   "metadata": {},
   "source": [
    "# References\n",
    "Keras. (n.d.). Getting started with Keras Hub. Retrieved April 15, 2025, from https://keras.io/keras_hub/getting_started/\n",
    "\n",
    "Sanh, V., Debut, L., Chaumond, J., & Wolf, T. (2020). DistilBERT, a distilled version of BERT: Smaller, faster, cheaper and lighter. arXiv. https://doi.org/10.48550/arXiv.1910.01108"
   ]
  },
  {
   "cell_type": "markdown",
   "id": "2df15a6f",
   "metadata": {},
   "source": []
  }
 ],
 "metadata": {
  "kernelspec": {
   "display_name": "Python 3",
   "language": "python",
   "name": "python3"
  },
  "language_info": {
   "codemirror_mode": {
    "name": "ipython",
    "version": 3
   },
   "file_extension": ".py",
   "mimetype": "text/x-python",
   "name": "python",
   "nbconvert_exporter": "python",
   "pygments_lexer": "ipython3",
   "version": "3.10.12"
  }
 },
 "nbformat": 4,
 "nbformat_minor": 5
}
